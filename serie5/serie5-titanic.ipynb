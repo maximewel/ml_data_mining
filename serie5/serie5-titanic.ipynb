{
 "cells": [
  {
   "cell_type": "markdown",
   "metadata": {},
   "source": [
    "# 1.  In  the  folder  “Exercises”  you  have  access  to  the  dataset  Titanic.csv presenting information about travellers with their status (survived=1(yes) or =0 (no)).  In  ddition, you have the information about the class(Pclass), name (Name), gender (Sex), age (Age), sibling or spouse onboard (1/0), parents or children aboard (1/0), and fare price (Fare)"
   ]
  },
  {
   "cell_type": "code",
   "execution_count": 1,
   "metadata": {},
   "outputs": [
    {
     "data": {
      "text/html": [
       "<div>\n",
       "<style scoped>\n",
       "    .dataframe tbody tr th:only-of-type {\n",
       "        vertical-align: middle;\n",
       "    }\n",
       "\n",
       "    .dataframe tbody tr th {\n",
       "        vertical-align: top;\n",
       "    }\n",
       "\n",
       "    .dataframe thead th {\n",
       "        text-align: right;\n",
       "    }\n",
       "</style>\n",
       "<table border=\"1\" class=\"dataframe\">\n",
       "  <thead>\n",
       "    <tr style=\"text-align: right;\">\n",
       "      <th></th>\n",
       "      <th>Survived</th>\n",
       "      <th>Pclass</th>\n",
       "      <th>Name</th>\n",
       "      <th>Sex</th>\n",
       "      <th>Age</th>\n",
       "      <th>Siblings/Spouses Aboard</th>\n",
       "      <th>Parents/Children Aboard</th>\n",
       "      <th>Fare</th>\n",
       "    </tr>\n",
       "  </thead>\n",
       "  <tbody>\n",
       "    <tr>\n",
       "      <th>0</th>\n",
       "      <td>0</td>\n",
       "      <td>3</td>\n",
       "      <td>Mr. Owen Harris Braund</td>\n",
       "      <td>male</td>\n",
       "      <td>22.0</td>\n",
       "      <td>1</td>\n",
       "      <td>0</td>\n",
       "      <td>7.2500</td>\n",
       "    </tr>\n",
       "    <tr>\n",
       "      <th>1</th>\n",
       "      <td>1</td>\n",
       "      <td>1</td>\n",
       "      <td>Mrs. John Bradley (Florence Briggs Thayer) Cum...</td>\n",
       "      <td>female</td>\n",
       "      <td>38.0</td>\n",
       "      <td>1</td>\n",
       "      <td>0</td>\n",
       "      <td>71.2833</td>\n",
       "    </tr>\n",
       "    <tr>\n",
       "      <th>2</th>\n",
       "      <td>1</td>\n",
       "      <td>3</td>\n",
       "      <td>Miss. Laina Heikkinen</td>\n",
       "      <td>female</td>\n",
       "      <td>26.0</td>\n",
       "      <td>0</td>\n",
       "      <td>0</td>\n",
       "      <td>7.9250</td>\n",
       "    </tr>\n",
       "    <tr>\n",
       "      <th>3</th>\n",
       "      <td>1</td>\n",
       "      <td>1</td>\n",
       "      <td>Mrs. Jacques Heath (Lily May Peel) Futrelle</td>\n",
       "      <td>female</td>\n",
       "      <td>35.0</td>\n",
       "      <td>1</td>\n",
       "      <td>0</td>\n",
       "      <td>53.1000</td>\n",
       "    </tr>\n",
       "    <tr>\n",
       "      <th>4</th>\n",
       "      <td>0</td>\n",
       "      <td>3</td>\n",
       "      <td>Mr. William Henry Allen</td>\n",
       "      <td>male</td>\n",
       "      <td>35.0</td>\n",
       "      <td>0</td>\n",
       "      <td>0</td>\n",
       "      <td>8.0500</td>\n",
       "    </tr>\n",
       "    <tr>\n",
       "      <th>...</th>\n",
       "      <td>...</td>\n",
       "      <td>...</td>\n",
       "      <td>...</td>\n",
       "      <td>...</td>\n",
       "      <td>...</td>\n",
       "      <td>...</td>\n",
       "      <td>...</td>\n",
       "      <td>...</td>\n",
       "    </tr>\n",
       "    <tr>\n",
       "      <th>882</th>\n",
       "      <td>0</td>\n",
       "      <td>2</td>\n",
       "      <td>Rev. Juozas Montvila</td>\n",
       "      <td>male</td>\n",
       "      <td>27.0</td>\n",
       "      <td>0</td>\n",
       "      <td>0</td>\n",
       "      <td>13.0000</td>\n",
       "    </tr>\n",
       "    <tr>\n",
       "      <th>883</th>\n",
       "      <td>1</td>\n",
       "      <td>1</td>\n",
       "      <td>Miss. Margaret Edith Graham</td>\n",
       "      <td>female</td>\n",
       "      <td>19.0</td>\n",
       "      <td>0</td>\n",
       "      <td>0</td>\n",
       "      <td>30.0000</td>\n",
       "    </tr>\n",
       "    <tr>\n",
       "      <th>884</th>\n",
       "      <td>0</td>\n",
       "      <td>3</td>\n",
       "      <td>Miss. Catherine Helen Johnston</td>\n",
       "      <td>female</td>\n",
       "      <td>7.0</td>\n",
       "      <td>1</td>\n",
       "      <td>2</td>\n",
       "      <td>23.4500</td>\n",
       "    </tr>\n",
       "    <tr>\n",
       "      <th>885</th>\n",
       "      <td>1</td>\n",
       "      <td>1</td>\n",
       "      <td>Mr. Karl Howell Behr</td>\n",
       "      <td>male</td>\n",
       "      <td>26.0</td>\n",
       "      <td>0</td>\n",
       "      <td>0</td>\n",
       "      <td>30.0000</td>\n",
       "    </tr>\n",
       "    <tr>\n",
       "      <th>886</th>\n",
       "      <td>0</td>\n",
       "      <td>3</td>\n",
       "      <td>Mr. Patrick Dooley</td>\n",
       "      <td>male</td>\n",
       "      <td>32.0</td>\n",
       "      <td>0</td>\n",
       "      <td>0</td>\n",
       "      <td>7.7500</td>\n",
       "    </tr>\n",
       "  </tbody>\n",
       "</table>\n",
       "<p>887 rows × 8 columns</p>\n",
       "</div>"
      ],
      "text/plain": [
       "     Survived  Pclass                                               Name  \\\n",
       "0           0       3                             Mr. Owen Harris Braund   \n",
       "1           1       1  Mrs. John Bradley (Florence Briggs Thayer) Cum...   \n",
       "2           1       3                              Miss. Laina Heikkinen   \n",
       "3           1       1        Mrs. Jacques Heath (Lily May Peel) Futrelle   \n",
       "4           0       3                            Mr. William Henry Allen   \n",
       "..        ...     ...                                                ...   \n",
       "882         0       2                               Rev. Juozas Montvila   \n",
       "883         1       1                        Miss. Margaret Edith Graham   \n",
       "884         0       3                     Miss. Catherine Helen Johnston   \n",
       "885         1       1                               Mr. Karl Howell Behr   \n",
       "886         0       3                                 Mr. Patrick Dooley   \n",
       "\n",
       "        Sex   Age  Siblings/Spouses Aboard  Parents/Children Aboard     Fare  \n",
       "0      male  22.0                        1                        0   7.2500  \n",
       "1    female  38.0                        1                        0  71.2833  \n",
       "2    female  26.0                        0                        0   7.9250  \n",
       "3    female  35.0                        1                        0  53.1000  \n",
       "4      male  35.0                        0                        0   8.0500  \n",
       "..      ...   ...                      ...                      ...      ...  \n",
       "882    male  27.0                        0                        0  13.0000  \n",
       "883  female  19.0                        0                        0  30.0000  \n",
       "884  female   7.0                        1                        2  23.4500  \n",
       "885    male  26.0                        0                        0  30.0000  \n",
       "886    male  32.0                        0                        0   7.7500  \n",
       "\n",
       "[887 rows x 8 columns]"
      ]
     },
     "execution_count": 1,
     "metadata": {},
     "output_type": "execute_result"
    }
   ],
   "source": [
    "import pandas as pd\n",
    "import os\n",
    "\n",
    "\n",
    "DATA_FILEPATH = \"data/titanic.csv\"\n",
    "\n",
    "def fetch_data():\n",
    "    \"\"\"Import the data from csv to pd dataframe\"\"\"\n",
    "    relaviteFilepath = os.path.join(os.path.abspath(''), DATA_FILEPATH)\n",
    "    return pd.read_csv(relaviteFilepath)\n",
    "\n",
    "# df stands for dataframe. This is the object that we will manipulate throughouht the notebook\n",
    "titanicdf = fetch_data()\n",
    "titanicdf"
   ]
  },
  {
   "cell_type": "markdown",
   "metadata": {},
   "source": [
    "# Preprocessing\n",
    "First we do some pre-processing to clean the data and/or transform it to be able to use it."
   ]
  },
  {
   "cell_type": "code",
   "execution_count": 2,
   "metadata": {},
   "outputs": [
    {
     "name": "stdout",
     "output_type": "stream",
     "text": [
      "     Survived  Pclass  Sex   Age  Siblings/Spouses Aboard  \\\n",
      "0           0       3    1  22.0                        1   \n",
      "1           1       1    0  38.0                        1   \n",
      "2           1       3    0  26.0                        0   \n",
      "3           1       1    0  35.0                        1   \n",
      "4           0       3    1  35.0                        0   \n",
      "..        ...     ...  ...   ...                      ...   \n",
      "882         0       2    1  27.0                        0   \n",
      "883         1       1    0  19.0                        0   \n",
      "884         0       3    0   7.0                        1   \n",
      "885         1       1    1  26.0                        0   \n",
      "886         0       3    1  32.0                        0   \n",
      "\n",
      "     Parents/Children Aboard     Fare  Fare_grouped  Age_grouped  \n",
      "0                          0   7.2500           0.0            1  \n",
      "1                          0  71.2833           7.0            2  \n",
      "2                          0   7.9250           0.0            1  \n",
      "3                          0  53.1000           5.0            2  \n",
      "4                          0   8.0500           0.0            2  \n",
      "..                       ...      ...           ...          ...  \n",
      "882                        0  13.0000           1.0            1  \n",
      "883                        0  30.0000           3.0            1  \n",
      "884                        2  23.4500           2.0            0  \n",
      "885                        0  30.0000           3.0            1  \n",
      "886                        0   7.7500           0.0            2  \n",
      "\n",
      "[887 rows x 9 columns]\n"
     ]
    }
   ],
   "source": [
    "from sklearn import preprocessing\n",
    "\n",
    "#The names need to be removed completely as they are a very problematic feature\n",
    "titanicdf.drop(columns=[\"Name\"], axis=1, inplace=True)\n",
    "\n",
    "#The sex also needs to be encoded\n",
    "#creating labelEncoder\n",
    "le = preprocessing.LabelEncoder()\n",
    "# Converting string labels into numbers.\n",
    "titanicdf[\"Sex\"] = le.fit_transform(titanicdf[\"Sex\"])\n",
    "\n",
    "#The Fare is numerical, we can try to arrange it into ranges\n",
    "titanicdf[\"Fare_grouped\"] = titanicdf[\"Fare\"] // 10 #Group by 10\n",
    "\n",
    "def group_age(age):\n",
    "    \"\"\"Directly use numbers as we would need to apply label encoder\"\"\"\n",
    "    if age < 18:\n",
    "        return 0\n",
    "    if age < 30:\n",
    "        return 1\n",
    "    if age < 60:\n",
    "        return 2\n",
    "    return 3\n",
    "\n",
    "#group ages\n",
    "titanicdf['Age_grouped'] = titanicdf['Age'].apply(group_age)\n",
    "\n",
    "print(titanicdf)\n",
    "\n",
    "#Remove initial cols to avoid having very dependant values (simple + grouped, very bad for bayes)\n",
    "titanicdf.drop(columns=['Fare', 'Age'], axis=1, inplace=True)"
   ]
  },
  {
   "cell_type": "markdown",
   "metadata": {},
   "source": [
    "## (a)  In the correlation visualization, select the two features that havethe most significant correlation to the target feature, Survived."
   ]
  },
  {
   "cell_type": "markdown",
   "metadata": {},
   "source": [
    "First we plot the correlation matrix"
   ]
  },
  {
   "cell_type": "code",
   "execution_count": 3,
   "metadata": {},
   "outputs": [
    {
     "data": {
      "image/png": "[encoded data removed]",
      "text/plain": [
       "<Figure size 432x288 with 2 Axes>"
      ]
     },
     "metadata": {
      "needs_background": "light"
     },
     "output_type": "display_data"
    }
   ],
   "source": [
    "import pandas as pd\n",
    "import seaborn as sn\n",
    "import matplotlib.pyplot as plt\n",
    "\n",
    "corrMatrix = titanicdf.corr()\n",
    "sn.heatmap(corrMatrix, annot=True)\n",
    "plt.show()"
   ]
  },
  {
   "cell_type": "markdown",
   "metadata": {},
   "source": [
    "Then we study the column that is interesting for us - that is, the label (survived)"
   ]
  },
  {
   "cell_type": "code",
   "execution_count": 4,
   "metadata": {},
   "outputs": [
    {
     "name": "stdout",
     "output_type": "stream",
     "text": [
      "Survived                   1.000000\n",
      "Pclass                     0.336528\n",
      "Sex                        0.542152\n",
      "Siblings/Spouses Aboard    0.037082\n",
      "Parents/Children Aboard    0.080097\n",
      "Fare_grouped               0.260970\n",
      "Age_grouped                0.051855\n",
      "Name: Survived, dtype: float64\n"
     ]
    }
   ],
   "source": [
    "target = abs(corrMatrix[\"Survived\"])\n",
    "\n",
    "print(target)"
   ]
  },
  {
   "cell_type": "markdown",
   "metadata": {},
   "source": [
    "Now the two most relevant features can simply be selected amongst the bunch, excluding of course the Survived row."
   ]
  },
  {
   "cell_type": "code",
   "execution_count": 5,
   "metadata": {},
   "outputs": [
    {
     "name": "stdout",
     "output_type": "stream",
     "text": [
      "Ordered : \n",
      "Sex                        0.542152\n",
      "Pclass                     0.336528\n",
      "Fare_grouped               0.260970\n",
      "Parents/Children Aboard    0.080097\n",
      "Age_grouped                0.051855\n",
      "Siblings/Spouses Aboard    0.037082\n",
      "Name: Survived, dtype: float64\n",
      "2 most relevant features: \n",
      "Sex       0.542152\n",
      "Pclass    0.336528\n",
      "Name: Survived, dtype: float64\n"
     ]
    }
   ],
   "source": [
    "featureCount = 2\n",
    "\n",
    "#Drop the survived line\n",
    "target.drop(labels=\"Survived\", inplace=True)\n",
    "\n",
    "#Oder the serie\n",
    "ordered = target.sort_values(ascending=False)\n",
    "print(f\"Ordered : \\n{ordered}\")\n",
    "\n",
    "#Select the N max\n",
    "features = ordered[:featureCount]\n",
    "print(f\"{featureCount} most relevant features: \\n{features}\")"
   ]
  },
  {
   "cell_type": "markdown",
   "metadata": {},
   "source": [
    "* Note: We would not want to select PClass + Fare. They are indeed both relevant (Top3) but they are also highly correlated to each other\n",
    "  * This is evident in the corellation matrix (0.56)\n",
    "  * This is logical as they are directly linked\n",
    "\n",
    "As the PClass is a bit more relevant, we would probably have better result by dropping the fare (tested in the point 3 with all attributes)"
   ]
  },
  {
   "cell_type": "markdown",
   "metadata": {},
   "source": [
    "## (b)  Using Naive Bayes classifier and the most two significant features to predict the Survival of the travellers."
   ]
  },
  {
   "cell_type": "code",
   "execution_count": 6,
   "metadata": {},
   "outputs": [
    {
     "name": "stdout",
     "output_type": "stream",
     "text": [
      "accuracy : 77.0%\n"
     ]
    }
   ],
   "source": [
    "from sklearn.naive_bayes import GaussianNB\n",
    "from sklearn.model_selection import train_test_split\n",
    "from sklearn.metrics import accuracy_score\n",
    "\n",
    "X,y = titanicdf[[\"Sex\", \"Pclass\"]], titanicdf[\"Survived\"]\n",
    "X_train, X_test, y_train, y_test = train_test_split(X, y, test_size=0.25, random_state=42, stratify=y)\n",
    "\n",
    "gnb = GaussianNB()\n",
    "gnb.fit(X_train, y_train)\n",
    "\n",
    "y_pred = gnb.predict(X_test)\n",
    "\n",
    "accuracy = round(100*accuracy_score(y_test, y_pred), 1)\n",
    "print(f\"accuracy : {accuracy}%\")"
   ]
  },
  {
   "cell_type": "markdown",
   "metadata": {},
   "source": [
    "## (c)  Compare the performance of your model when using all the attributes of the travellers.You need to split the dataset into two disjoint sample, the training and the test set."
   ]
  },
  {
   "cell_type": "code",
   "execution_count": 7,
   "metadata": {},
   "outputs": [
    {
     "name": "stdout",
     "output_type": "stream",
     "text": [
      "accuracy : 77.5%\n"
     ]
    }
   ],
   "source": [
    "from sklearn.naive_bayes import GaussianNB\n",
    "from sklearn.model_selection import train_test_split\n",
    "from sklearn.metrics import accuracy_score\n",
    "\n",
    "X,y = titanicdf.drop(columns=['Survived'], axis=1, inplace=False), titanicdf[\"Survived\"]\n",
    "X_train, X_test, y_train, y_test = train_test_split(X, y, test_size=0.75, random_state=42, stratify=y)\n",
    "\n",
    "gnb = GaussianNB()\n",
    "gnb.fit(X_train, y_train)\n",
    "\n",
    "y_pred = gnb.predict(X_test)\n",
    "\n",
    "accuracy = round(100*accuracy_score(y_test, y_pred), 1)\n",
    "print(f\"accuracy : {accuracy}%\")"
   ]
  },
  {
   "cell_type": "markdown",
   "metadata": {},
   "source": [
    "We try to remove the fare as it is highly correlated to the PClass to verify if dependant attributes are detrimental (in theory, they are)"
   ]
  },
  {
   "cell_type": "code",
   "execution_count": 8,
   "metadata": {},
   "outputs": [
    {
     "name": "stdout",
     "output_type": "stream",
     "text": [
      "accuracy : 77.3%\n"
     ]
    }
   ],
   "source": [
    "from sklearn.naive_bayes import GaussianNB\n",
    "from sklearn.model_selection import train_test_split\n",
    "from sklearn.metrics import accuracy_score\n",
    "\n",
    "X,y = titanicdf.drop(columns=['Survived', 'Fare_grouped'], axis=1, inplace=False), titanicdf[\"Survived\"]\n",
    "X_train, X_test, y_train, y_test = train_test_split(X, y, test_size=0.75, random_state=42, stratify=y)\n",
    "\n",
    "gnb = GaussianNB()\n",
    "gnb.fit(X_train, y_train)\n",
    "\n",
    "y_pred = gnb.predict(X_test)\n",
    "\n",
    "accuracy = round(100*accuracy_score(y_test, y_pred), 1)\n",
    "print(f\"accuracy : {accuracy}%\")"
   ]
  },
  {
   "cell_type": "markdown",
   "metadata": {},
   "source": [
    "# Conclusion\n",
    "\n",
    "By using the correlation matrix, we are able to determine which are the two features most correlated to the label (survived).\\\n",
    "Using these two independant features, Sex and Pclass, we achieve an accuracy of 79.7%.\\\n",
    "Using all the features together, we achieve a lower accuracy of 77.5%.\\\n",
    "By removing a highly dependant feature (fare_grouped highly dependant with the class), we achieve an even lower accuracy of 77.3%. The two numbers are still very close.\\\n",
    "\\\n",
    "We can conclude that taking the highly corellated features are  beneficial to the algorithm (+2% accuracy), and removing the fare did not change the result as much as I thought it would. Although it is important to keep in mind the method to group the fare is fairly arbitrary (grouped by value of 10: 0-10, 10-20, etc).\\\n",
    "\\\n",
    "Lastly, the pre-processing was very important (grouping age, encoding sex, etc) as the first pass without any encoding reached only ~66% of accuracy and dit not recognize the sex as a corelated feature"
   ]
  }
 ],
 "metadata": {
  "interpreter": {
   "hash": "7ed6f5bb5d95a6060489c1e73b807b62943cb606c2473302746af3ad3d902cd5"
  },
  "kernelspec": {
   "display_name": "Python 3.9.7 64-bit ('.venv': venv)",
   "name": "python3"
  },
  "language_info": {
   "codemirror_mode": {
    "name": "ipython",
    "version": 3
   },
   "file_extension": ".py",
   "mimetype": "text/x-python",
   "name": "python",
   "nbconvert_exporter": "python",
   "pygments_lexer": "ipython3",
   "version": "3.9.7"
  },
  "orig_nbformat": 4
 },
 "nbformat": 4,
 "nbformat_minor": 2
}
